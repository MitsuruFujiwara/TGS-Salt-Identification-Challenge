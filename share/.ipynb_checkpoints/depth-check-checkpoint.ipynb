{
 "cells": [
  {
   "cell_type": "code",
   "execution_count": 6,
   "metadata": {},
   "outputs": [
    {
     "name": "stdout",
     "output_type": "stream",
     "text": [
      "AxesSubplot(0.125,0.125;0.775x0.755)\n",
      "AxesSubplot(0.125,0.125;0.775x0.755)\n",
      "AxesSubplot(0.125,0.125;0.775x0.755)\n"
     ]
    },
    {
     "data": {
      "image/png": "[encoded data removed]",
      "text/plain": [
       "<Figure size 432x288 with 1 Axes>"
      ]
     },
     "metadata": {},
     "output_type": "display_data"
    }
   ],
   "source": [
    "import pandas as pd\n",
    "import sys\n",
    "sys.path.append('..')\n",
    "from src import Utils\n",
    "loadpkl = Utils.loadpkl\n",
    "\n",
    "\n",
    "depths_df = pd.read_csv(\"../input/depths.csv\", index_col=\"id\")\n",
    "train_df = loadpkl('../output/train_df.pkl')\n",
    "train_df_pos = train_df[train_df.loc[:,\"coverage\"]>0]\n",
    "\n",
    "print(depths_df.loc[:,'z'].hist(bins=100))\n",
    "print(train_df.loc[:,'z'].hist(bins=100))\n",
    "print(train_df_pos.loc[:,'z'].hist(bins=100))"
   ]
  },
  {
   "cell_type": "markdown",
   "metadata": {},
   "source": [
    "## 横軸が z：深さ　でヒストグラムになっています。  \n",
    "一番多いブルーが全データで、二番目に多いのオレンジがtrainデータで、一番少ないグリーンがtrainデータのうちでcoverageが正のものになります。"
   ]
  },
  {
   "cell_type": "code",
   "execution_count": 19,
   "metadata": {},
   "outputs": [
    {
     "name": "stdout",
     "output_type": "stream",
     "text": [
      "   z_class           z  coverage\n",
      "0        0   80.972603  0.060988\n",
      "1        1  150.297491  0.093282\n",
      "2        2  250.551181  0.146168\n",
      "3        3  351.055351  0.265398\n",
      "4        4  453.124204  0.314848\n",
      "5        5  549.827586  0.312679\n",
      "6        6  650.075321  0.266725\n",
      "7        7  746.198330  0.246868\n",
      "8        8  835.003731  0.219721\n",
      "9        9  933.830508  0.203348\n"
     ]
    },
    {
     "data": {
      "text/plain": [
       "<BarContainer object of 10 artists>"
      ]
     },
     "execution_count": 19,
     "metadata": {},
     "output_type": "execute_result"
    },
    {
     "data": {
      "image/png": "[encoded data removed]",
      "text/plain": [
       "<Figure size 432x288 with 1 Axes>"
      ]
     },
     "metadata": {},
     "output_type": "display_data"
    }
   ],
   "source": [
    "import matplotlib.pyplot as plt\n",
    "\n",
    "train_df.loc[:,'z_class'] = train_df.loc[:,'z'].map(lambda x:x//100)\n",
    "grp = train_df.loc[:,['z_class','z','coverage']].groupby('z_class',as_index=False).mean()\n",
    "print(grp)\n",
    "labels = list(grp.loc[:,'z_class']*100)\n",
    "plt.bar(grp.z_class, grp.coverage, tick_label=labels, align='edge')"
   ]
  },
  {
   "cell_type": "markdown",
   "metadata": {},
   "source": [
    "## trainデータに対して、深さで100m刻みでグルーピング。縦軸は平均coverage。\n",
    "浅い所のデータはcoverageが低い模様。"
   ]
  }
 ],
 "metadata": {
  "kernelspec": {
   "display_name": "Python 3",
   "language": "python",
   "name": "python3"
  },
  "language_info": {
   "codemirror_mode": {
    "name": "ipython",
    "version": 3
   },
   "file_extension": ".py",
   "mimetype": "text/x-python",
   "name": "python",
   "nbconvert_exporter": "python",
   "pygments_lexer": "ipython3",
   "version": "3.6.4"
  }
 },
 "nbformat": 4,
 "nbformat_minor": 2
}
